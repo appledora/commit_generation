{
  "nbformat": 4,
  "nbformat_minor": 0,
  "metadata": {
    "colab": {
      "provenance": []
    },
    "kernelspec": {
      "name": "python3",
      "display_name": "Python 3"
    },
    "language_info": {
      "name": "python"
    }
  },
  "cells": [
    {
      "cell_type": "code",
      "execution_count": 2,
      "metadata": {
        "colab": {
          "base_uri": "https://localhost:8080/"
        },
        "id": "sxs7fjnYwe8_",
        "outputId": "c0629ab4-68cf-4921-ac11-ebeca1661b21"
      },
      "outputs": [
        {
          "output_type": "stream",
          "name": "stdout",
          "text": [
            "Requirement already satisfied: transformers in /usr/local/lib/python3.10/dist-packages (4.35.2)\n",
            "Requirement already satisfied: filelock in /usr/local/lib/python3.10/dist-packages (from transformers) (3.13.1)\n",
            "Requirement already satisfied: huggingface-hub<1.0,>=0.16.4 in /usr/local/lib/python3.10/dist-packages (from transformers) (0.19.4)\n",
            "Requirement already satisfied: numpy>=1.17 in /usr/local/lib/python3.10/dist-packages (from transformers) (1.23.5)\n",
            "Requirement already satisfied: packaging>=20.0 in /usr/local/lib/python3.10/dist-packages (from transformers) (23.2)\n",
            "Requirement already satisfied: pyyaml>=5.1 in /usr/local/lib/python3.10/dist-packages (from transformers) (6.0.1)\n",
            "Requirement already satisfied: regex!=2019.12.17 in /usr/local/lib/python3.10/dist-packages (from transformers) (2023.6.3)\n",
            "Requirement already satisfied: requests in /usr/local/lib/python3.10/dist-packages (from transformers) (2.31.0)\n",
            "Requirement already satisfied: tokenizers<0.19,>=0.14 in /usr/local/lib/python3.10/dist-packages (from transformers) (0.15.0)\n",
            "Requirement already satisfied: safetensors>=0.3.1 in /usr/local/lib/python3.10/dist-packages (from transformers) (0.4.1)\n",
            "Requirement already satisfied: tqdm>=4.27 in /usr/local/lib/python3.10/dist-packages (from transformers) (4.66.1)\n",
            "Requirement already satisfied: fsspec>=2023.5.0 in /usr/local/lib/python3.10/dist-packages (from huggingface-hub<1.0,>=0.16.4->transformers) (2023.6.0)\n",
            "Requirement already satisfied: typing-extensions>=3.7.4.3 in /usr/local/lib/python3.10/dist-packages (from huggingface-hub<1.0,>=0.16.4->transformers) (4.5.0)\n",
            "Requirement already satisfied: charset-normalizer<4,>=2 in /usr/local/lib/python3.10/dist-packages (from requests->transformers) (3.3.2)\n",
            "Requirement already satisfied: idna<4,>=2.5 in /usr/local/lib/python3.10/dist-packages (from requests->transformers) (3.6)\n",
            "Requirement already satisfied: urllib3<3,>=1.21.1 in /usr/local/lib/python3.10/dist-packages (from requests->transformers) (2.0.7)\n",
            "Requirement already satisfied: certifi>=2017.4.17 in /usr/local/lib/python3.10/dist-packages (from requests->transformers) (2023.11.17)\n"
          ]
        }
      ],
      "source": [
        "!pip install transformers\n"
      ]
    },
    {
      "cell_type": "code",
      "source": [
        "import os\n",
        "file_path = '/content/drive/MyDrive/nlp/proj/nngen/data'\n",
        "train_diffs_path = os.path.join(file_path, 'cleaned.train.diff')\n",
        "train_msgs_path = os.path.join(file_path, 'cleaned.train.msg')\n",
        "valid_diffs_path = os.path.join(file_path, 'cleaned.valid.diff')\n",
        "valid_msgs_path = os.path.join(file_path, 'cleaned.valid.msg')"
      ],
      "metadata": {
        "id": "Yaft1aDZ6EzT"
      },
      "execution_count": 3,
      "outputs": []
    },
    {
      "cell_type": "code",
      "source": [
        "import os\n",
        "import numpy as np\n",
        "import tensorflow as tf\n",
        "from tensorflow.keras.preprocessing.text import Tokenizer\n",
        "from tensorflow.keras.preprocessing.sequence import pad_sequences\n",
        "\n",
        "def load_data(filepath):\n",
        "    with open(filepath, 'r', encoding='utf-8') as file:\n",
        "        data = file.read().strip().split('\\n')\n",
        "    return data\n",
        "\n",
        "# Load the data\n",
        "train_diffs = load_data(train_diffs_path)\n",
        "train_msgs = load_data(train_msgs_path)\n",
        "valid_diffs = load_data(valid_diffs_path)\n",
        "valid_msgs = load_data(valid_msgs_path)\n",
        "\n",
        "# Prepare the tokenizer and fit on the diffs and commit messages\n",
        "tokenizer = Tokenizer()\n",
        "tokenizer.fit_on_texts(train_diffs + train_msgs)\n",
        "\n",
        "# Convert texts to sequences\n",
        "train_diffs_seq = tokenizer.texts_to_sequences(train_diffs)\n",
        "train_msgs_seq = tokenizer.texts_to_sequences(train_msgs)\n",
        "\n",
        "# Padding sequences to a fixed length (you may choose a length suitable for your data)\n",
        "max_len_diffs = max([len(seq) for seq in train_diffs_seq])\n",
        "max_len_msgs = max([len(seq) for seq in train_msgs_seq])\n",
        "\n",
        "train_diffs_seq_padded = pad_sequences(train_diffs_seq, maxlen=max_len_diffs, padding='post')\n",
        "train_msgs_seq_padded = pad_sequences(train_msgs_seq, maxlen=max_len_msgs, padding='post')\n"
      ],
      "metadata": {
        "id": "jiFWaMBX6Mnv"
      },
      "execution_count": 4,
      "outputs": []
    },
    {
      "cell_type": "code",
      "source": [
        "from tensorflow.keras.models import Model\n",
        "from tensorflow.keras.layers import Input, LSTM, Dense, Embedding, Concatenate, Attention\n",
        "\n",
        "# Define model parameters\n",
        "vocab_size = len(tokenizer.word_index) + 1\n",
        "embedding_dim = 256\n",
        "lstm_units = 128\n",
        "\n",
        "# Encoder\n",
        "encoder_inputs = Input(shape=(max_len_diffs,))\n",
        "encoder_embedding = Embedding(vocab_size, embedding_dim)(encoder_inputs)\n",
        "encoder_lstm = LSTM(lstm_units, return_sequences=True, return_state=True)\n",
        "encoder_outputs, state_h, state_c = encoder_lstm(encoder_embedding)\n",
        "encoder_states = [state_h, state_c]\n",
        "\n",
        "# Decoder\n",
        "decoder_inputs = Input(shape=(max_len_msgs,))\n",
        "decoder_embedding = Embedding(vocab_size, embedding_dim)\n",
        "decoder_lstm = LSTM(lstm_units, return_sequences=True, return_state=True)\n",
        "decoder_outputs, _, _ = decoder_lstm(decoder_embedding(decoder_inputs), initial_state=encoder_states)\n",
        "\n",
        "# Attention layer\n",
        "attention = Attention()\n",
        "attention_out = attention([decoder_outputs, encoder_outputs])\n",
        "\n",
        "# Concat attention output and decoder LSTM output\n",
        "decoder_concat_input = Concatenate(axis=-1)([decoder_outputs, attention_out])\n",
        "\n",
        "# Dense layer\n",
        "decoder_dense = Dense(vocab_size, activation='softmax')\n",
        "decoder_outputs = decoder_dense(decoder_concat_input)\n",
        "\n",
        "# Define the model that will turn encoder_input_data & decoder_input_data into decoder_target_data\n",
        "model = Model([encoder_inputs, decoder_inputs], decoder_outputs)\n",
        "\n",
        "# Compile the model\n",
        "model.compile(optimizer='rmsprop', loss='sparse_categorical_crossentropy')\n",
        "\n",
        "model.summary()\n"
      ],
      "metadata": {
        "colab": {
          "base_uri": "https://localhost:8080/"
        },
        "id": "oeYCWMcNDp_R",
        "outputId": "56c406e1-9e8c-4a2f-a01f-9524d19b8279"
      },
      "execution_count": 5,
      "outputs": [
        {
          "output_type": "stream",
          "name": "stdout",
          "text": [
            "Model: \"model\"\n",
            "__________________________________________________________________________________________________\n",
            " Layer (type)                Output Shape                 Param #   Connected to                  \n",
            "==================================================================================================\n",
            " input_1 (InputLayer)        [(None, 120)]                0         []                            \n",
            "                                                                                                  \n",
            " input_2 (InputLayer)        [(None, 27)]                 0         []                            \n",
            "                                                                                                  \n",
            " embedding (Embedding)       (None, 120, 256)             1268454   ['input_1[0][0]']             \n",
            "                                                          4                                       \n",
            "                                                                                                  \n",
            " embedding_1 (Embedding)     (None, 27, 256)              1268454   ['input_2[0][0]']             \n",
            "                                                          4                                       \n",
            "                                                                                                  \n",
            " lstm (LSTM)                 [(None, 120, 128),           197120    ['embedding[0][0]']           \n",
            "                              (None, 128),                                                        \n",
            "                              (None, 128)]                                                        \n",
            "                                                                                                  \n",
            " lstm_1 (LSTM)               [(None, 27, 128),            197120    ['embedding_1[0][0]',         \n",
            "                              (None, 128),                           'lstm[0][1]',                \n",
            "                              (None, 128)]                           'lstm[0][2]']                \n",
            "                                                                                                  \n",
            " attention (Attention)       (None, 27, 128)              0         ['lstm_1[0][0]',              \n",
            "                                                                     'lstm[0][0]']                \n",
            "                                                                                                  \n",
            " concatenate (Concatenate)   (None, 27, 256)              0         ['lstm_1[0][0]',              \n",
            "                                                                     'attention[0][0]']           \n",
            "                                                                                                  \n",
            " dense (Dense)               (None, 27, 49549)            1273409   ['concatenate[0][0]']         \n",
            "                                                          3                                       \n",
            "                                                                                                  \n",
            "==================================================================================================\n",
            "Total params: 38497421 (146.86 MB)\n",
            "Trainable params: 38497421 (146.86 MB)\n",
            "Non-trainable params: 0 (0.00 Byte)\n",
            "__________________________________________________________________________________________________\n"
          ]
        }
      ]
    },
    {
      "cell_type": "code",
      "source": [
        "# One-hot encode the target sequences\n",
        "def one_hot_encode(sequences, max_len, vocab_size):\n",
        "    one_hot = np.zeros((len(sequences), max_len, vocab_size), dtype='float32')\n",
        "\n",
        "    for i, seq in enumerate(sequences):\n",
        "        for j, idx in enumerate(seq):\n",
        "            one_hot[i, j, idx] = 1.\n",
        "\n",
        "    return one_hot\n",
        "\n",
        "# No need to one-hot encode, just ensure the targets are properly shaped\n",
        "train_msgs_seq_padded = train_msgs_seq_padded.reshape((train_msgs_seq_padded.shape[0], train_msgs_seq_padded.shape[1], 1))\n",
        "\n",
        "\n",
        "# Train the model\n",
        "# Train the model with integer sequences\n",
        "model.fit(\n",
        "    [train_diffs_seq_padded, train_msgs_seq_padded],\n",
        "    train_msgs_seq_padded,  # Integer sequences used directly\n",
        "    batch_size=64,\n",
        "    epochs=10,\n",
        "    validation_split=0.2\n",
        ")\n",
        "\n"
      ],
      "metadata": {
        "colab": {
          "base_uri": "https://localhost:8080/"
        },
        "id": "MzaWCiM3Dvcg",
        "outputId": "48e4f7ba-509c-4fe8-d889-436a64ebba98"
      },
      "execution_count": 6,
      "outputs": [
        {
          "output_type": "stream",
          "name": "stdout",
          "text": [
            "Epoch 1/10\n",
            "277/277 [==============================] - 1797s 6s/step - loss: 2.1534 - val_loss: 1.5829\n",
            "Epoch 2/10\n",
            "277/277 [==============================] - 1783s 6s/step - loss: 1.4797 - val_loss: 1.4625\n",
            "Epoch 3/10\n",
            "277/277 [==============================] - 1811s 7s/step - loss: 1.3703 - val_loss: 1.3753\n",
            "Epoch 4/10\n",
            "277/277 [==============================] - 1791s 6s/step - loss: 1.2842 - val_loss: 1.2922\n",
            "Epoch 5/10\n",
            "277/277 [==============================] - 1799s 6s/step - loss: 1.1975 - val_loss: 1.2098\n",
            "Epoch 6/10\n",
            "277/277 [==============================] - 1781s 6s/step - loss: 1.1224 - val_loss: 1.1496\n",
            "Epoch 7/10\n",
            "277/277 [==============================] - 1775s 6s/step - loss: 1.0638 - val_loss: 1.0951\n",
            "Epoch 8/10\n",
            "277/277 [==============================] - 1782s 6s/step - loss: 1.0142 - val_loss: 1.0474\n",
            "Epoch 9/10\n",
            "277/277 [==============================] - 1791s 6s/step - loss: 0.9705 - val_loss: 1.0083\n",
            "Epoch 10/10\n",
            "277/277 [==============================] - 1791s 6s/step - loss: 0.9328 - val_loss: 0.9747\n"
          ]
        },
        {
          "output_type": "execute_result",
          "data": {
            "text/plain": [
              "<keras.src.callbacks.History at 0x7b88cc2afa30>"
            ]
          },
          "metadata": {},
          "execution_count": 6
        }
      ]
    },
    {
      "cell_type": "code",
      "source": [
        "model.save('/content/drive/MyDrive/nlp/proj/nngen/s2s.h5')"
      ],
      "metadata": {
        "id": "CIPSpsXTECe8"
      },
      "execution_count": 6,
      "outputs": []
    }
  ]
}